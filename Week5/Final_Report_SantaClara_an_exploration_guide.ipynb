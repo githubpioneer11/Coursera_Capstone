{
 "cells": [
  {
   "cell_type": "markdown",
   "id": "e49ea977",
   "metadata": {},
   "source": [
    "# Final Report Capstone - Explore Santa Clara : A Traveller’s Guide to Best Businesse Areas in Town\n",
    "\n",
    "![title](img/Flag_of_Santa_Clara,_California.png)\n",
    "\n",
    "## 1. Introduction"
   ]
  },
  {
   "cell_type": "markdown",
   "id": "270c13bf",
   "metadata": {},
   "source": [
    "A traveler coming to explore the town of Santa Clara would  like to know which businesses are better with the purpose to either have a pleasant trip, buy a house and also know how much congested the city is. The purpose of this project is to help people in gathering an insight based on business ratings and traffic congestion in the city.  It will help people making smart and efficient decision on deciding  which places to focus on in the city.\n",
    "    \n",
    "Lots of people are migrating to Santa Clara as multiple tech companies like Google, Apple, LinkedIn are in the vicinity. They try to search for houses or come to explore the city or on business conventions. They try to get a knowhow of the city. This project is for those people who wish to know about the businesses in the city and also get information on the congestion in the city based on the traffic incidents in the city.\n",
    "    \n",
    "This project aim to create an analysis of features for people visiting Santa Clara to search the best businesses as a comparative analysis between zipcodes. The features include traffic congestion data to give a better understanding of travel times around the city.\n",
    "    \n",
    "It will help people to get awareness of the area before moving to a new city, state, country or place for their work or to start a new fresh life.\n"
   ]
  },
  {
   "cell_type": "markdown",
   "id": "4d79edac",
   "metadata": {},
   "source": [
    "### 2.Problem Which Tried to Solve:"
   ]
  },
  {
   "cell_type": "markdown",
   "id": "0d8250db",
   "metadata": {},
   "source": [
    "The major purpose of this project, is to suggest a better streets and zip codes in a new city for the person who are shiffting there. Social presence in society in terms of like minded people. Connectivity to the airport, bus stand, city center, markets and other daily needs things nearby.\n",
    "\n",
    "a.\tSorted list of businesses  in terms of business ratings in descending order.\n",
    "\n",
    "b.\tSorted list of pincodes in terms of number of traffic incidents.\n"
   ]
  },
  {
   "cell_type": "markdown",
   "id": "37526e83",
   "metadata": {},
   "source": [
    "### 3. The Location:"
   ]
  },
  {
   "cell_type": "markdown",
   "id": "073b2e89",
   "metadata": {},
   "source": [
    "Santa Clara is a popular destination for people who decide to visit the Bay Area in terms of business and tourism. The Big tech companies are in the vicinity of the city. As it attracts a lot of jobs, it is one it is one the most diverse and multicultural areas in the Bay Area, being home to various religious groups and places of worship. \n",
    "\n",
    "Being a budding community, its host to a number of small and large businesses and people from neighboring areas visit it for tourism and knowing the place.\n"
   ]
  },
  {
   "cell_type": "markdown",
   "id": "29c6559a",
   "metadata": {},
   "source": [
    "### 4. Data Selection"
   ]
  },
  {
   "cell_type": "markdown",
   "id": "b863be62",
   "metadata": {},
   "source": [
    "Data Link: https://api.foursquare.com/v2/venues/explore?  NEAR_LOCATION = 'Santa Clara, CA'\n",
    "\n",
    "Will use Santa Clara dataset which we scrapped from foursquare. Dataset consisting of ZipCode, Business Name, Street, Business Category, Latitude and Longitude."
   ]
  },
  {
   "cell_type": "markdown",
   "id": "c1b4d77a",
   "metadata": {},
   "source": [
    "#### Foursquare API Data:"
   ]
  },
  {
   "cell_type": "markdown",
   "id": "1ebd6033",
   "metadata": {},
   "source": [
    "We will need data about different businesses with their categories in different neighborhoods of Santa Clara in a radius of 10km. In order to gain that information we will use \"Foursquare\" locational information. Foursquare is a location data provider with information about all manner of venues and events within an area of interest. Such information includes venue names, locations, menus and even photos. As such, the foursquare location platform will be used as the sole data source since all the stated required information can be obtained through the API.\n",
    "\n",
    "We get the venues in a 10km radius."
   ]
  },
  {
   "cell_type": "markdown",
   "id": "287d9d6b",
   "metadata": {},
   "source": [
    "![title](img/SantaClara_Businesses.png)"
   ]
  },
  {
   "cell_type": "markdown",
   "id": "540792a5",
   "metadata": {},
   "source": [
    "#### Yelp Business Search API Data:"
   ]
  },
  {
   "cell_type": "markdown",
   "id": "2d607733",
   "metadata": {},
   "source": [
    "https://api.yelp.com/v3/businesses/search\n",
    "After finding the list of businesses, we then connect to the Yelp API to gather information about the business rating about the venues. We draw a bounding box of 5kms around the businesses based on their latitude and longitude.\n"
   ]
  },
  {
   "cell_type": "markdown",
   "id": "f78d66a0",
   "metadata": {},
   "source": [
    "![title](img/SantaClara_Businesses_with_Ratings.png)"
   ]
  },
  {
   "cell_type": "markdown",
   "id": "b62e65f2",
   "metadata": {},
   "source": [
    "#### Bing API Data:"
   ]
  },
  {
   "cell_type": "markdown",
   "id": "ea52e71f",
   "metadata": {},
   "source": [
    " https://dev.virtualearth.net/REST/v1/Traffic/Incidents/\n",
    "\n",
    "We then connect this boundingbox data to bing to get the traffic incident data.\n",
    "The data retrieved from a combination of FourSquare, Yelp and Bing contained information of venues within a specified distance of the longitude and latitude of the postcodes. The information obtained per venue as follows:\n",
    "1.\tZipCode\n",
    "2.\tStreet\n",
    "3.\tBusiness Category\n",
    "4.\tBusiness Name\n",
    "5.\tBusiness Rating\n",
    "6.\tBusiness Latitude and Longitude\n",
    "7.\tBoundingBox Latitude and Longitude around the Business\n",
    "8.\tTraffic Incident Counts in the BoundingBox\n"
   ]
  },
  {
   "cell_type": "markdown",
   "id": "816f76a8",
   "metadata": {},
   "source": [
    "![title](img/SantaClara_Businesses_with_Ratings_and_Traffic_Incidents.png)"
   ]
  },
  {
   "cell_type": "markdown",
   "id": "a503859c",
   "metadata": {},
   "source": [
    "### 5. Clustering Approach:\n",
    "To compare the similarities of data, we decided to explore businesses, categorize them, get traffic incident data near them and group them into clusters to find similar clusters in Santa Clara. To be able to do that, we need to cluster data which is a form of unsupervised machine learning: k-means clustering algorithm."
   ]
  },
  {
   "cell_type": "markdown",
   "id": "0521f61f",
   "metadata": {},
   "source": [
    "![title](img/SantaClara_Businesses_with_Ratings_and_Traffic_Incidents_Kclusters.png)"
   ]
  },
  {
   "cell_type": "markdown",
   "id": "bc243a0f",
   "metadata": {},
   "source": [
    "### 6. Visualizing the Clusters:"
   ]
  },
  {
   "cell_type": "markdown",
   "id": "27f6bc74",
   "metadata": {},
   "source": [
    "To see the clusters on the chart and then categorize into areas with businesses with higher ratings and higher congestion. To compare to other clusters where the congestion is lower."
   ]
  },
  {
   "cell_type": "markdown",
   "id": "b3b9b269",
   "metadata": {},
   "source": [
    "![title](img/SantaClara_Clustered.png)"
   ]
  },
  {
   "cell_type": "markdown",
   "id": "6c1658ae",
   "metadata": {},
   "source": [
    "### 5. Discussion Section"
   ]
  },
  {
   "cell_type": "markdown",
   "id": "ee712e97",
   "metadata": {},
   "source": [
    "#### Problem Which Tried to Solve:"
   ]
  },
  {
   "cell_type": "markdown",
   "id": "916cb2bb",
   "metadata": {},
   "source": [
    "The major purpose of this project, is to suggest to people who are visiting Santa Clara, the best businesses in town and also which areas are congested. \n",
    "\n",
    "1. Sorted list of businesses in terms of business ratings in descending order.\n",
    "2. Sorted list of areas in terms of traffic congestion."
   ]
  },
  {
   "cell_type": "markdown",
   "id": "f41e607f",
   "metadata": {},
   "source": [
    "### 6. Conclusion Section"
   ]
  },
  {
   "cell_type": "markdown",
   "id": "29b1e5f2",
   "metadata": {},
   "source": [
    "In this project, using k-means cluster algorithm I separated the city into 10(Ten) different clusters and for 100 different lattitude and logitude from dataset, which have very-similar businesses around them. Using the charts above results presented to a particular zipcode based on higher business ratings of businesses in them and number of traffic incidents in them.\n",
    "\n",
    "I feel rewarded with the efforts and believe this course with all the topics covered is well worthy of appreciation. This project has shown me a practical application to resolve a real situation that has impacting personal and financial impact using Data Science tools. The mapping with Folium is a very powerful technique to consolidate information and make the analysis and decision better with confidence."
   ]
  },
  {
   "cell_type": "markdown",
   "id": "b1217549",
   "metadata": {},
   "source": [
    "#### Future Works:"
   ]
  },
  {
   "cell_type": "markdown",
   "id": "8a6f65b3",
   "metadata": {},
   "source": [
    "This project can be continued for making it more precise in terms to find best places to stay in terms of city attractions. Best means on the basis of all required things(daily needs or things we need to live a better life) around and also in terms of cost effective."
   ]
  },
  {
   "cell_type": "markdown",
   "id": "8949210b",
   "metadata": {},
   "source": [
    "#### Libraries Used to Develop the Project:"
   ]
  },
  {
   "cell_type": "markdown",
   "id": "95d5c6a3",
   "metadata": {},
   "source": [
    "> Pandas: For creating and manipulating dataframes.\n",
    "> \n",
    "> Folium: Python visualization library would be used to visualize the neighborhoods cluster distribution of using interactive leaflet map.\n",
    "> \n",
    "> Scikit Learn: For importing k-means clustering.\n",
    "> \n",
    "> JSON: Library to handle JSON files.\n",
    "> \n",
    "> XML: To separate data from presentation and XML stores data in plain text format.\n",
    "> \n",
    "> Geocoder: To retrieve Location Data.\n",
    "> \n",
    "> Beautiful Soup and Requests: To scrap and library to handle http requests.\n",
    "> \n",
    "> Matplotlib: Python Plotting Module.\n"
   ]
  }
 ],
 "metadata": {
  "kernelspec": {
   "display_name": "Python 3 (ipykernel)",
   "language": "python",
   "name": "python3"
  },
  "language_info": {
   "codemirror_mode": {
    "name": "ipython",
    "version": 3
   },
   "file_extension": ".py",
   "mimetype": "text/x-python",
   "name": "python",
   "nbconvert_exporter": "python",
   "pygments_lexer": "ipython3",
   "version": "3.9.6"
  }
 },
 "nbformat": 4,
 "nbformat_minor": 5
}
